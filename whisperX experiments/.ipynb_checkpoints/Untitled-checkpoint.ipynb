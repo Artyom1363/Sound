{
 "cells": [
  {
   "cell_type": "code",
   "execution_count": null,
   "id": "69501c87",
   "metadata": {},
   "outputs": [],
   "source": [
    "import whisperx\n",
    "import whisper\n",
    "\n",
    "device = \"cpu\" \n",
    "audio_file = \"clear.mp3\"\n",
    "\n",
    "# transcribe with original whisper\n",
    "model = whisper.load_model(\"small\", device)\n",
    "result = model.transcribe(audio_file)\n",
    "\n",
    "print(result[\"segments\"]) # before alignment\n",
    "\n",
    "# load alignment model and metadata\n",
    "model_a, metadata = whisperx.load_align_model(language_code='ru', device=device)\n",
    "\n",
    "# align whisper output\n",
    "result_aligned = whisperx.align(result[\"segments\"], model_a, metadata, audio_file, device)\n",
    "\n",
    "print(result_aligned[\"segments\"]) # after alignment\n",
    "print(result_aligned[\"word_segments\"]) # after alignment"
   ]
  }
 ],
 "metadata": {
  "kernelspec": {
   "display_name": "Python 3 (ipykernel)",
   "language": "python",
   "name": "python3"
  },
  "language_info": {
   "codemirror_mode": {
    "name": "ipython",
    "version": 3
   },
   "file_extension": ".py",
   "mimetype": "text/x-python",
   "name": "python",
   "nbconvert_exporter": "python",
   "pygments_lexer": "ipython3",
   "version": "3.10.9"
  }
 },
 "nbformat": 4,
 "nbformat_minor": 5
}

{
 "cells": [
  {
   "cell_type": "markdown",
   "id": "36eed524",
   "metadata": {},
   "source": [
    "# Фильтрация звука"
   ]
  },
  {
   "cell_type": "markdown",
   "id": "7b75703c",
   "metadata": {},
   "source": [
    "## DeepFilterNet\n",
    "https://github.com/Rikorose/DeepFilterNet\n"
   ]
  },
  {
   "cell_type": "code",
   "execution_count": 10,
   "id": "d9440f32",
   "metadata": {
    "scrolled": true
   },
   "outputs": [
    {
     "name": "stdout",
     "output_type": "stream",
     "text": [
      "^C\n"
     ]
    }
   ],
   "source": [
    "!pip install  deepfilternet\n"
   ]
  },
  {
   "cell_type": "code",
   "execution_count": 12,
   "id": "e3422885",
   "metadata": {},
   "outputs": [
    {
     "name": "stdout",
     "output_type": "stream",
     "text": [
      "2023-04-02 14:29:46 | INFO     | DF | Loading model settings of DeepFilterNet2\n",
      "2023-04-02 14:29:46 | INFO     | DF | Using DeepFilterNet2 model at C:\\Users\\user\\AppData\\Local\\DeepFilterNet\\DeepFilterNet\\Cache\\DeepFilterNet2\n"
     ]
    },
    {
     "ename": "ValueError",
     "evalue": "Value 'mask_only' not found in config (defaults not allowed).",
     "output_type": "error",
     "traceback": [
      "\u001b[1;31m---------------------------------------------------------------------------\u001b[0m",
      "\u001b[1;31mValueError\u001b[0m                                Traceback (most recent call last)",
      "Cell \u001b[1;32mIn[12], line 12\u001b[0m\n\u001b[0;32m      5\u001b[0m audio_path \u001b[38;5;241m=\u001b[39m download_file(\n\u001b[0;32m      6\u001b[0m         \u001b[38;5;124m\"\u001b[39m\u001b[38;5;124mhttps://github.com/Rikorose/DeepFilterNet/raw/e031053/assets/noisy_snr0.wav\u001b[39m\u001b[38;5;124m\"\u001b[39m,\n\u001b[0;32m      7\u001b[0m         download_dir\u001b[38;5;241m=\u001b[39m\u001b[38;5;124m\"\u001b[39m\u001b[38;5;124m.\u001b[39m\u001b[38;5;124m\"\u001b[39m,\n\u001b[0;32m      8\u001b[0m     )\n\u001b[0;32m     10\u001b[0m \u001b[38;5;28;01mif\u001b[39;00m \u001b[38;5;18m__name__\u001b[39m \u001b[38;5;241m==\u001b[39m \u001b[38;5;124m\"\u001b[39m\u001b[38;5;124m__main__\u001b[39m\u001b[38;5;124m\"\u001b[39m:\n\u001b[0;32m     11\u001b[0m     \u001b[38;5;66;03m# Load default model\u001b[39;00m\n\u001b[1;32m---> 12\u001b[0m     model, df_state, _ \u001b[38;5;241m=\u001b[39m \u001b[43minit_df\u001b[49m\u001b[43m(\u001b[49m\u001b[43m)\u001b[49m\n\u001b[0;32m     13\u001b[0m     \u001b[38;5;66;03m# Download and open some audio file. You use your audio files here\u001b[39;00m\n\u001b[0;32m     15\u001b[0m     audio, _ \u001b[38;5;241m=\u001b[39m load_audio(audio_path, sr\u001b[38;5;241m=\u001b[39mdf_state\u001b[38;5;241m.\u001b[39msr())\n",
      "File \u001b[1;32m~\\AppData\\Local\\Programs\\Python\\Python310\\lib\\site-packages\\df\\enhance.py:132\u001b[0m, in \u001b[0;36minit_df\u001b[1;34m(model_base_dir, post_filter, log_level, log_file, config_allow_defaults, epoch, default_model)\u001b[0m\n\u001b[0;32m    130\u001b[0m \u001b[38;5;28;01mif\u001b[39;00m \u001b[38;5;129;01mnot\u001b[39;00m load_cp:\n\u001b[0;32m    131\u001b[0m     checkpoint_dir \u001b[38;5;241m=\u001b[39m \u001b[38;5;28;01mNone\u001b[39;00m\n\u001b[1;32m--> 132\u001b[0m mask_only \u001b[38;5;241m=\u001b[39m \u001b[43mconfig\u001b[49m\u001b[43m(\u001b[49m\u001b[38;5;124;43m\"\u001b[39;49m\u001b[38;5;124;43mmask_only\u001b[39;49m\u001b[38;5;124;43m\"\u001b[39;49m\u001b[43m,\u001b[49m\u001b[43m \u001b[49m\u001b[43mcast\u001b[49m\u001b[38;5;241;43m=\u001b[39;49m\u001b[38;5;28;43mbool\u001b[39;49m\u001b[43m,\u001b[49m\u001b[43m \u001b[49m\u001b[43msection\u001b[49m\u001b[38;5;241;43m=\u001b[39;49m\u001b[38;5;124;43m\"\u001b[39;49m\u001b[38;5;124;43mtrain\u001b[39;49m\u001b[38;5;124;43m\"\u001b[39;49m\u001b[43m,\u001b[49m\u001b[43m \u001b[49m\u001b[43mdefault\u001b[49m\u001b[38;5;241;43m=\u001b[39;49m\u001b[38;5;28;43;01mFalse\u001b[39;49;00m\u001b[43m,\u001b[49m\u001b[43m \u001b[49m\u001b[43msave\u001b[49m\u001b[38;5;241;43m=\u001b[39;49m\u001b[38;5;28;43;01mFalse\u001b[39;49;00m\u001b[43m)\u001b[49m\n\u001b[0;32m    133\u001b[0m model, epoch \u001b[38;5;241m=\u001b[39m load_model_cp(checkpoint_dir, df_state, epoch\u001b[38;5;241m=\u001b[39mepoch, mask_only\u001b[38;5;241m=\u001b[39mmask_only)\n\u001b[0;32m    134\u001b[0m \u001b[38;5;28;01mif\u001b[39;00m (epoch \u001b[38;5;129;01mis\u001b[39;00m \u001b[38;5;28;01mNone\u001b[39;00m \u001b[38;5;129;01mor\u001b[39;00m epoch \u001b[38;5;241m==\u001b[39m \u001b[38;5;241m0\u001b[39m) \u001b[38;5;129;01mand\u001b[39;00m load_cp:\n",
      "File \u001b[1;32m~\\AppData\\Local\\Programs\\Python\\Python310\\lib\\site-packages\\df\\config.py:124\u001b[0m, in \u001b[0;36mConfig.__call__\u001b[1;34m(self, option, default, cast, save, section)\u001b[0m\n\u001b[0;32m    122\u001b[0m         \u001b[38;5;28mself\u001b[39m\u001b[38;5;241m.\u001b[39mparser\u001b[38;5;241m.\u001b[39mset(section, option, \u001b[38;5;28mself\u001b[39m\u001b[38;5;241m.\u001b[39mtostr(value, cast))\n\u001b[0;32m    123\u001b[0m \u001b[38;5;28;01melif\u001b[39;00m \u001b[38;5;28mself\u001b[39m\u001b[38;5;241m.\u001b[39mparser\u001b[38;5;241m.\u001b[39mhas_option(section, option):\n\u001b[1;32m--> 124\u001b[0m     value \u001b[38;5;241m=\u001b[39m \u001b[38;5;28;43mself\u001b[39;49m\u001b[38;5;241;43m.\u001b[39;49m\u001b[43mread_from_section\u001b[49m\u001b[43m(\u001b[49m\u001b[43msection\u001b[49m\u001b[43m,\u001b[49m\u001b[43m \u001b[49m\u001b[43moption\u001b[49m\u001b[43m,\u001b[49m\u001b[43m \u001b[49m\u001b[43mdefault\u001b[49m\u001b[43m,\u001b[49m\u001b[43m \u001b[49m\u001b[43mcast\u001b[49m\u001b[38;5;241;43m=\u001b[39;49m\u001b[43mcast\u001b[49m\u001b[43m,\u001b[49m\u001b[43m \u001b[49m\u001b[43msave\u001b[49m\u001b[38;5;241;43m=\u001b[39;49m\u001b[43msave\u001b[49m\u001b[43m)\u001b[49m\n\u001b[0;32m    125\u001b[0m \u001b[38;5;28;01melif\u001b[39;00m \u001b[38;5;28mself\u001b[39m\u001b[38;5;241m.\u001b[39mparser\u001b[38;5;241m.\u001b[39mhas_option(section\u001b[38;5;241m.\u001b[39mlower(), option):\n\u001b[0;32m    126\u001b[0m     value \u001b[38;5;241m=\u001b[39m \u001b[38;5;28mself\u001b[39m\u001b[38;5;241m.\u001b[39mread_from_section(section\u001b[38;5;241m.\u001b[39mlower(), option, default, cast\u001b[38;5;241m=\u001b[39mcast, save\u001b[38;5;241m=\u001b[39msave)\n",
      "File \u001b[1;32m~\\AppData\\Local\\Programs\\Python\\Python310\\lib\\site-packages\\df\\config.py:171\u001b[0m, in \u001b[0;36mConfig.read_from_section\u001b[1;34m(self, section, option, default, cast, save)\u001b[0m\n\u001b[0;32m    169\u001b[0m     \u001b[38;5;28mself\u001b[39m\u001b[38;5;241m.\u001b[39mparser\u001b[38;5;241m.\u001b[39mremove_option(section, option)\n\u001b[0;32m    170\u001b[0m \u001b[38;5;28;01melif\u001b[39;00m \u001b[38;5;129;01mnot\u001b[39;00m \u001b[38;5;28mself\u001b[39m\u001b[38;5;241m.\u001b[39mallow_defaults:\n\u001b[1;32m--> 171\u001b[0m     \u001b[38;5;28;01mraise\u001b[39;00m \u001b[38;5;167;01mValueError\u001b[39;00m(\u001b[38;5;124mf\u001b[39m\u001b[38;5;124m\"\u001b[39m\u001b[38;5;124mValue \u001b[39m\u001b[38;5;124m'\u001b[39m\u001b[38;5;132;01m{\u001b[39;00moption\u001b[38;5;132;01m}\u001b[39;00m\u001b[38;5;124m'\u001b[39m\u001b[38;5;124m not found in config (defaults not allowed).\u001b[39m\u001b[38;5;124m\"\u001b[39m)\n\u001b[0;32m    172\u001b[0m \u001b[38;5;28;01melse\u001b[39;00m:\n\u001b[0;32m    173\u001b[0m     \u001b[38;5;28mself\u001b[39m\u001b[38;5;241m.\u001b[39mparser\u001b[38;5;241m.\u001b[39mset(section, option, \u001b[38;5;28mself\u001b[39m\u001b[38;5;241m.\u001b[39mtostr(default, cast))\n",
      "\u001b[1;31mValueError\u001b[0m: Value 'mask_only' not found in config (defaults not allowed)."
     ]
    }
   ],
   "source": [
    "from df.enhance import enhance, init_df, load_audio, save_audio\n",
    "from df.utils import download_file\n",
    "import IPython\n",
    "\n",
    "\n",
    "\n",
    "if __name__ == \"__main__\":\n",
    "    # Load default model\n",
    "    model, df_state, _ = init_df(post_filter = False)\n",
    "    # Download and open some audio file. You use your audio files here\n",
    "    audio_path = download_file(\n",
    "        \"https://github.com/Rikorose/DeepFilterNet/raw/e031053/assets/noisy_snr0.wav\",\n",
    "        download_dir=\".\",\n",
    "    )\n",
    "    audio, _ = load_audio(audio_path, sr=df_state.sr())\n",
    "    # Denoise the audio\n",
    "    enhanced = enhance(model, df_state, audio)\n",
    "    # Save for listening\n",
    "    save_audio(\"enhanced.wav\", enhanced, df_state.sr())\n",
    "    IPython.display.Audio(audio_path)\n",
    "    IPython.display.Audio(\"enhanced.wav\")"
   ]
  },
  {
   "cell_type": "code",
   "execution_count": null,
   "id": "ced1165a",
   "metadata": {},
   "outputs": [],
   "source": []
  },
  {
   "cell_type": "code",
   "execution_count": null,
   "id": "d213c169",
   "metadata": {},
   "outputs": [],
   "source": []
  }
 ],
 "metadata": {
  "kernelspec": {
   "display_name": "Python 3 (ipykernel)",
   "language": "python",
   "name": "python3"
  },
  "language_info": {
   "codemirror_mode": {
    "name": "ipython",
    "version": 3
   },
   "file_extension": ".py",
   "mimetype": "text/x-python",
   "name": "python",
   "nbconvert_exporter": "python",
   "pygments_lexer": "ipython3",
   "version": "3.10.9"
  }
 },
 "nbformat": 4,
 "nbformat_minor": 5
}
